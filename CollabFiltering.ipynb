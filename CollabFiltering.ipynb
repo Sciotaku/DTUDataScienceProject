{
 "cells": [
  {
   "cell_type": "code",
   "execution_count": 17,
   "id": "01337f5b-0250-42b5-8aa8-2126ff8ceec3",
   "metadata": {},
   "outputs": [
    {
     "name": "stdout",
     "output_type": "stream",
     "text": [
      "Performance Comparison:\n",
      "Baseline (Average-based): MAE = 2.9475\n",
      "Collaborative Filtering: MAE = 2.8784\n"
     ]
    }
   ],
   "source": [
    "import numpy as np\n",
    "import pandas as pd\n",
    "from sklearn.metrics.pairwise import cosine_similarity\n",
    "from sklearn.metrics import mean_squared_error, mean_absolute_error\n",
    "from sklearn.model_selection import train_test_split\n",
    "\n",
    "# Step 1: Generate a sample user-item matrix\n",
    "np.random.seed(42)\n",
    "num_users = 50\n",
    "num_items = 20\n",
    "user_item_matrix = pd.DataFrame(\n",
    "    np.random.randint(1, 6, size=(num_users, num_items)),\n",
    "    index=[f\"User_{i}\" for i in range(num_users)],\n",
    "    columns=[f\"Item_{j}\" for j in range(num_items)]\n",
    ")\n",
    "user_item_matrix.iloc[::5, ::4] = np.nan  # Introduce some missing values\n",
    "\n",
    "# Step 2: Train-test split\n",
    "train_data, test_data = train_test_split(user_item_matrix, test_size=0.2, random_state=42)\n",
    "\n",
    "# Step 3: Define collaborative filtering prediction function\n",
    "def collaborative_filtering_predict(user_item_matrix, mode=\"user\", top_k=5):\n",
    "    if mode == \"user\":\n",
    "        similarity_matrix = cosine_similarity(user_item_matrix.fillna(0))\n",
    "        similarity_matrix = pd.DataFrame(similarity_matrix, index=user_item_matrix.index, columns=user_item_matrix.index)\n",
    "    else:  # Item-based\n",
    "        similarity_matrix = cosine_similarity(user_item_matrix.fillna(0).T)\n",
    "        similarity_matrix = pd.DataFrame(similarity_matrix, index=user_item_matrix.columns, columns=user_item_matrix.columns)\n",
    "\n",
    "    predictions = user_item_matrix.copy()\n",
    "    for user in user_item_matrix.index:\n",
    "        for item in user_item_matrix.columns:\n",
    "            if pd.isna(user_item_matrix.loc[user, item]):\n",
    "                if mode == \"user\":\n",
    "                    similar_users = similarity_matrix[user].nlargest(top_k + 1).iloc[1:]  # Exclude self\n",
    "                    weights = similar_users.values\n",
    "                    ratings = user_item_matrix.loc[similar_users.index, item]\n",
    "                else:  # Item-based\n",
    "                    similar_items = similarity_matrix[item].nlargest(top_k + 1).iloc[1:]  # Exclude self\n",
    "                    weights = similar_items.values\n",
    "                    ratings = user_item_matrix.loc[user, similar_items.index]\n",
    "\n",
    "                if ratings.notna().sum() > 0:\n",
    "                    predictions.loc[user, item] = np.dot(weights, ratings.fillna(0)) / np.sum(weights)\n",
    "                else:\n",
    "                    predictions.loc[user, item] = np.nan\n",
    "    return predictions\n",
    "\n",
    "# Step 4: Define evaluation function\n",
    "def evaluate_predictions(predictions, actuals):\n",
    "    predictions_aligned = predictions.loc[actuals.index, actuals.columns].fillna(0)  # Fill NaN in predictions\n",
    "    actuals_aligned = actuals.fillna(0)  # Fill NaN in actuals\n",
    "\n",
    "    y_true = actuals_aligned.values.flatten()\n",
    "    y_pred = predictions_aligned.values.flatten()\n",
    "\n",
    "    if len(y_true) == 0 or len(y_pred) == 0:\n",
    "        print(\"No valid samples for evaluation.\")\n",
    "        return {\"MAE\": None, \"RMSE\": None}\n",
    "\n",
    "    mae = mean_absolute_error(y_true, y_pred)\n",
    "    rmse = np.sqrt(mean_squared_error(y_true, y_pred))\n",
    "    return {\"MAE\": mae, \"RMSE\": rmse}\n",
    "\n",
    "# Step 5: Baseline prediction (average-based)\n",
    "def average_based_predict(user_item_matrix):\n",
    "    item_means = user_item_matrix.mean(axis=0)\n",
    "    avg_predictions = pd.DataFrame(\n",
    "        [item_means.values] * user_item_matrix.shape[0],\n",
    "        index=user_item_matrix.index,\n",
    "        columns=user_item_matrix.columns\n",
    "    )\n",
    "    return avg_predictions\n",
    "\n",
    "# Step 6: Make predictions\n",
    "avg_predictions = average_based_predict(train_data)\n",
    "cofilter_predictions = collaborative_filtering_predict(train_data, mode=\"user\", top_k=5)\n",
    "\n",
    "# Step 7: Evaluate predictions\n",
    "test_data_aligned = test_data.reindex_like(user_item_matrix)\n",
    "avg_predictions_aligned = avg_predictions.reindex_like(test_data_aligned)\n",
    "cofilter_predictions_aligned = cofilter_predictions.reindex_like(test_data_aligned)\n",
    "\n",
    "avg_eval = evaluate_predictions(avg_predictions_aligned, test_data_aligned)\n",
    "cofilter_eval = evaluate_predictions(cofilter_predictions_aligned, test_data_aligned)\n",
    "\n",
    "# Step 8: Display results\n",
    "print(\"Performance Comparison:\")\n",
    "if avg_eval[\"MAE\"] is not None and avg_eval[\"RMSE\"] is not None:\n",
    "    print(f\"Baseline (Average-based): MAE = {avg_eval['MAE']:.4f}\") #, RMSE = {avg_eval['RMSE']:.4f}\n",
    "else:\n",
    "    print(\"Baseline (Average-based): No valid samples for evaluation.\")\n",
    "\n",
    "if cofilter_eval[\"MAE\"] is not None and cofilter_eval[\"RMSE\"] is not None:\n",
    "    print(f\"Collaborative Filtering: MAE = {cofilter_eval['MAE']:.4f}\") #, RMSE = {cofilter_eval['RMSE']:.4f}\n",
    "else:\n",
    "    print(\"Collaborative Filtering: No valid samples for evaluation.\")\n"
   ]
  },
  {
   "cell_type": "code",
   "execution_count": 21,
   "id": "78bb6f8c-e7a1-45eb-877b-358d754501b3",
   "metadata": {},
   "outputs": [
    {
     "data": {
      "image/png": "[encoded data removed]",
      "text/plain": [
       "<Figure size 640x480 with 1 Axes>"
      ]
     },
     "metadata": {},
     "output_type": "display_data"
    }
   ],
   "source": [
    "import matplotlib.pyplot as plt\n",
    "\n",
    "# Calculate improvement percentages\n",
    "mae_improvement = ((avg_eval['MAE'] - cofilter_eval['MAE']) / avg_eval['MAE']) * 100\n",
    "rmse_improvement = ((avg_eval['RMSE'] - cofilter_eval['RMSE']) / avg_eval['RMSE']) * 100\n",
    "\n",
    "# Data for the plot\n",
    "metrics = [\"MAE Improvement\", \"RMSE Improvement\"]\n",
    "improvement_values = [mae_improvement, rmse_improvement]\n",
    "\n",
    "# Plotting\n",
    "plt.bar(metrics, improvement_values, color=[\"blue\", \"orange\"], alpha=0.7)\n",
    "plt.title(\"Improvement from Baseline to Collaborative Filtering\")\n",
    "plt.ylabel(\"Improvement (%)\")\n",
    "plt.ylim(min(improvement_values) - 5, max(improvement_values) + 5)  # Adjust Y-axis for clarity\n",
    "for i, val in enumerate(improvement_values):\n",
    "    plt.text(i, val + 0.5, f\"{val:.2f}%\", ha='center', fontsize=10)\n",
    "plt.axhline(0, color='black', linewidth=0.5, linestyle='--')  # Reference line at 0\n",
    "plt.show()\n"
   ]
  },
  {
   "cell_type": "code",
   "execution_count": null,
   "id": "f685ec71-6556-4eee-a671-e2e48299d08f",
   "metadata": {},
   "outputs": [],
   "source": []
  }
 ],
 "metadata": {
  "kernelspec": {
   "display_name": "Python 3 (ipykernel)",
   "language": "python",
   "name": "python3"
  },
  "language_info": {
   "codemirror_mode": {
    "name": "ipython",
    "version": 3
   },
   "file_extension": ".py",
   "mimetype": "text/x-python",
   "name": "python",
   "nbconvert_exporter": "python",
   "pygments_lexer": "ipython3",
   "version": "3.12.7"
  }
 },
 "nbformat": 4,
 "nbformat_minor": 5
}
