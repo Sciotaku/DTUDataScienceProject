{
 "cells": [
  {
   "cell_type": "code",
   "execution_count": 7,
   "id": "743b2c70-eda9-4be1-86ca-281a61651b5d",
   "metadata": {},
   "outputs": [],
   "source": [
    "import pandas as pd\n",
    "from sklearn.metrics.pairwise import cosine_similarity\n",
    "from sklearn.metrics import mean_squared_error\n",
    "import numpy as np"
   ]
  },
  {
   "cell_type": "code",
   "execution_count": 9,
   "id": "fd113827-4286-43c1-94f9-ca51061d46f0",
   "metadata": {},
   "outputs": [],
   "source": [
    "data = pd.read_csv('combined_data_with_sentiment.csv', nrows=20000)\n",
    "data = data[['name', 'course_url', 'course_id', 'reviewers', 'rating', 'avg_rating','review_count']]"
   ]
  },
  {
   "cell_type": "code",
   "execution_count": 11,
   "id": "62a3260c-4429-4cf0-83cb-0098d1e6b8ed",
   "metadata": {},
   "outputs": [
    {
     "data": {
      "text/html": [
       "<div>\n",
       "<style scoped>\n",
       "    .dataframe tbody tr th:only-of-type {\n",
       "        vertical-align: middle;\n",
       "    }\n",
       "\n",
       "    .dataframe tbody tr th {\n",
       "        vertical-align: top;\n",
       "    }\n",
       "\n",
       "    .dataframe thead th {\n",
       "        text-align: right;\n",
       "    }\n",
       "</style>\n",
       "<table border=\"1\" class=\"dataframe\">\n",
       "  <thead>\n",
       "    <tr style=\"text-align: right;\">\n",
       "      <th></th>\n",
       "      <th>name</th>\n",
       "      <th>course_url</th>\n",
       "      <th>course_id</th>\n",
       "      <th>reviewers</th>\n",
       "      <th>rating</th>\n",
       "      <th>avg_rating</th>\n",
       "      <th>review_count</th>\n",
       "    </tr>\n",
       "  </thead>\n",
       "  <tbody>\n",
       "    <tr>\n",
       "      <th>0</th>\n",
       "      <td>Machine Learning</td>\n",
       "      <td>https://www.coursera.org/learn/machine-learning</td>\n",
       "      <td>machine-learning</td>\n",
       "      <td>By Deleted A</td>\n",
       "      <td>1</td>\n",
       "      <td>4.750522</td>\n",
       "      <td>35895</td>\n",
       "    </tr>\n",
       "    <tr>\n",
       "      <th>1</th>\n",
       "      <td>Machine Learning</td>\n",
       "      <td>https://www.coursera.org/learn/machine-learning</td>\n",
       "      <td>machine-learning</td>\n",
       "      <td>By Bruno C</td>\n",
       "      <td>1</td>\n",
       "      <td>4.750522</td>\n",
       "      <td>35895</td>\n",
       "    </tr>\n",
       "    <tr>\n",
       "      <th>2</th>\n",
       "      <td>Machine Learning</td>\n",
       "      <td>https://www.coursera.org/learn/machine-learning</td>\n",
       "      <td>machine-learning</td>\n",
       "      <td>By Fadi</td>\n",
       "      <td>1</td>\n",
       "      <td>4.750522</td>\n",
       "      <td>35895</td>\n",
       "    </tr>\n",
       "    <tr>\n",
       "      <th>3</th>\n",
       "      <td>Machine Learning</td>\n",
       "      <td>https://www.coursera.org/learn/machine-learning</td>\n",
       "      <td>machine-learning</td>\n",
       "      <td>By Mathew L</td>\n",
       "      <td>1</td>\n",
       "      <td>4.750522</td>\n",
       "      <td>35895</td>\n",
       "    </tr>\n",
       "    <tr>\n",
       "      <th>4</th>\n",
       "      <td>Machine Learning</td>\n",
       "      <td>https://www.coursera.org/learn/machine-learning</td>\n",
       "      <td>machine-learning</td>\n",
       "      <td>By Rui C</td>\n",
       "      <td>1</td>\n",
       "      <td>4.750522</td>\n",
       "      <td>35895</td>\n",
       "    </tr>\n",
       "  </tbody>\n",
       "</table>\n",
       "</div>"
      ],
      "text/plain": [
       "               name                                       course_url  \\\n",
       "0  Machine Learning  https://www.coursera.org/learn/machine-learning   \n",
       "1  Machine Learning  https://www.coursera.org/learn/machine-learning   \n",
       "2  Machine Learning  https://www.coursera.org/learn/machine-learning   \n",
       "3  Machine Learning  https://www.coursera.org/learn/machine-learning   \n",
       "4  Machine Learning  https://www.coursera.org/learn/machine-learning   \n",
       "\n",
       "          course_id     reviewers  rating  avg_rating  review_count  \n",
       "0  machine-learning  By Deleted A       1    4.750522         35895  \n",
       "1  machine-learning    By Bruno C       1    4.750522         35895  \n",
       "2  machine-learning       By Fadi       1    4.750522         35895  \n",
       "3  machine-learning   By Mathew L       1    4.750522         35895  \n",
       "4  machine-learning      By Rui C       1    4.750522         35895  "
      ]
     },
     "execution_count": 11,
     "metadata": {},
     "output_type": "execute_result"
    }
   ],
   "source": [
    "data.head()"
   ]
  },
  {
   "cell_type": "code",
   "execution_count": null,
   "id": "02f70b61-6bec-4612-b5ba-bd9fefa672bf",
   "metadata": {},
   "outputs": [],
   "source": []
  },
  {
   "cell_type": "code",
   "execution_count": 20,
   "id": "cf8250a1-63c0-4957-9c65-9bfd8aa8e2ba",
   "metadata": {},
   "outputs": [],
   "source": [
    "# Create User-Item Interaction Matrix\n",
    "user_item_matrix = data.pivot_table(\n",
    "    index='reviewers', columns='course_id', values='rating'\n",
    ")\n",
    "#user_item_matrix = user_item_matrix.fillna(0)\n",
    "user_item_matrix = user_item_matrix.apply(lambda x: x.fillna(x.mean()), axis=1)\n",
    "#print(user_item_matrix.head())"
   ]
  },
  {
   "cell_type": "code",
   "execution_count": 22,
   "id": "c6347f10-65c1-42ca-b56b-758f88f6d50c",
   "metadata": {},
   "outputs": [],
   "source": [
    "user_similarity = cosine_similarity(user_item_matrix)\n",
    "user_similarity_df = pd.DataFrame(user_similarity, \n",
    "                                   index=user_item_matrix.index, \n",
    "                                   columns=user_item_matrix.index)"
   ]
  },
  {
   "cell_type": "code",
   "execution_count": 24,
   "id": "af391290-d2e9-4553-b84b-81d5f4bdb148",
   "metadata": {},
   "outputs": [],
   "source": [
    "def recommend_courses(user_id, num_recommendations=5):\n",
    "    if user_id not in user_item_matrix.index:\n",
    "        print(f\"User {user_id} not found in the dataset.\")\n",
    "        return []\n",
    "\n",
    "    # Get the user's ratings\n",
    "    user_ratings = user_item_matrix.loc[user_id]\n",
    "\n",
    "    # Check for unrated courses\n",
    "    unrated_courses = user_ratings[user_ratings == 0]\n",
    "    if unrated_courses.empty:\n",
    "        print(f\"User {user_id} has already rated all courses.\")\n",
    "        return []\n",
    "\n",
    "    # Similarity scores\n",
    "    similarity_scores = user_similarity_df[user_id]\n",
    "\n",
    "    # Weighted average of ratings from similar users\n",
    "    weighted_ratings = np.zeros(user_item_matrix.shape[1])\n",
    "    for similar_user in similarity_scores.index:\n",
    "        if similar_user == user_id:\n",
    "            continue\n",
    "        weighted_ratings += similarity_scores[similar_user] * user_item_matrix.loc[similar_user].values\n",
    "\n",
    "    # Normalize by similarity\n",
    "    weighted_ratings /= sum(similarity_scores)\n",
    "\n",
    "    # Recommend only unrated courses\n",
    "    recommendations = {\n",
    "        course: score for course, score in zip(user_item_matrix.columns, weighted_ratings)\n",
    "        if course in unrated_courses.index\n",
    "    }\n",
    "\n",
    "    # Sort and return the top N recommendations\n",
    "    recommendations = sorted(recommendations.items(), key=lambda x: x[1], reverse=True)[:num_recommendations]\n",
    "    return recommendations\n"
   ]
  },
  {
   "cell_type": "code",
   "execution_count": 26,
   "id": "233f79b7-6f13-49dc-8ba4-a75a016e6d59",
   "metadata": {},
   "outputs": [
    {
     "name": "stdout",
     "output_type": "stream",
     "text": [
      "User By A.S.M. P has already rated all courses.\n",
      "Recommendations for By A.S.M. P: []\n"
     ]
    }
   ],
   "source": [
    "#Recommendations for a Target User\n",
    "user_id = 'By A.S.M. P'  \n",
    "recommendations = recommend_courses(user_id)\n",
    "print(f\"Recommendations for {user_id}: {recommendations}\")"
   ]
  },
  {
   "cell_type": "code",
   "execution_count": 103,
   "id": "39adc2ef-83c5-46d9-8582-f759efacd931",
   "metadata": {},
   "outputs": [
    {
     "name": "stdout",
     "output_type": "stream",
     "text": [
      "Rated courses for By A.S.M. P:\n",
      "course_id\n",
      "machine-learning    4.0\n",
      "Name: By A.S.M. P, dtype: float64\n",
      "User By A.S.M. P has rated all available courses. No recommendations can be generated.\n"
     ]
    }
   ],
   "source": [
    "# Check how many courses the user has rated\n",
    "rated_courses = user_item_matrix.loc[user_id]\n",
    "print(f\"Rated courses for {user_id}:\\n{rated_courses}\")\n",
    "\n",
    "# Check for unrated courses\n",
    "unrated_courses = rated_courses[rated_courses == 0]\n",
    "if unrated_courses.empty:\n",
    "    print(f\"User {user_id} has rated all available courses. No recommendations can be generated.\")\n",
    "else:\n",
    "    print(f\"Unrated courses for {user_id}: {list(unrated_courses.index)}\")\n"
   ]
  },
  {
   "cell_type": "code",
   "execution_count": 105,
   "id": "a9936503-9226-4946-a66a-ee74453a73ea",
   "metadata": {},
   "outputs": [
    {
     "name": "stdout",
     "output_type": "stream",
     "text": [
      "reviewers\n",
      "By   M D M      1.0\n",
      "By Rahul p      1.0\n",
      "By Rahul M      1.0\n",
      "By Rahul N R    1.0\n",
      "By Rahul P      1.0\n",
      "Name: By AMARJEET K, dtype: float64\n"
     ]
    }
   ],
   "source": [
    "print(user_similarity_df['By AMARJEET K'].sort_values(ascending=False).head())\n"
   ]
  },
  {
   "cell_type": "code",
   "execution_count": null,
   "id": "d9895abd-e48c-4153-b1c7-1ddec39c0ab9",
   "metadata": {},
   "outputs": [],
   "source": []
  },
  {
   "cell_type": "code",
   "execution_count": null,
   "id": "57b3be58-5df4-49cb-be5f-59d79e777bfa",
   "metadata": {},
   "outputs": [],
   "source": []
  },
  {
   "cell_type": "code",
   "execution_count": null,
   "id": "5c47f381-f801-46b0-bb9f-daae079f6fc9",
   "metadata": {},
   "outputs": [],
   "source": []
  }
 ],
 "metadata": {
  "kernelspec": {
   "display_name": "Python 3 (ipykernel)",
   "language": "python",
   "name": "python3"
  },
  "language_info": {
   "codemirror_mode": {
    "name": "ipython",
    "version": 3
   },
   "file_extension": ".py",
   "mimetype": "text/x-python",
   "name": "python",
   "nbconvert_exporter": "python",
   "pygments_lexer": "ipython3",
   "version": "3.12.7"
  }
 },
 "nbformat": 4,
 "nbformat_minor": 5
}
